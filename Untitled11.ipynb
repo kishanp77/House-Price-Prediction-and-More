{
  "nbformat": 4,
  "nbformat_minor": 0,
  "metadata": {
    "colab": {
      "provenance": [],
      "authorship_tag": "ABX9TyO9fInjSOzxjwmpfKEs0m4g",
      "include_colab_link": true
    },
    "kernelspec": {
      "name": "python3",
      "display_name": "Python 3"
    },
    "language_info": {
      "name": "python"
    }
  },
  "cells": [
    {
      "cell_type": "markdown",
      "metadata": {
        "id": "view-in-github",
        "colab_type": "text"
      },
      "source": [
        "<a href=\"https://colab.research.google.com/github/kishanp77/kishanp77/blob/main/Untitled11.ipynb\" target=\"_parent\"><img src=\"https://colab.research.google.com/assets/colab-badge.svg\" alt=\"Open In Colab\"/></a>"
      ]
    },
    {
      "cell_type": "code",
      "execution_count": 1,
      "metadata": {
        "colab": {
          "base_uri": "https://localhost:8080/"
        },
        "id": "t0PRXJVxaDyR",
        "outputId": "4ab9c2a8-0969-43f5-9674-44b92e3b6534"
      },
      "outputs": [
        {
          "output_type": "stream",
          "name": "stdout",
          "text": [
            "Solution: x = [-0.  0. -0.]\n"
          ]
        }
      ],
      "source": [
        "#ANS 1.\n",
        "import numpy as np\n",
        "\n",
        "# Define the coefficient matrix A\n",
        "A = np.array([[1, -2, 1], [0, 2, -8], [-4, 5, 7]])\n",
        "\n",
        "# Define the constant vector b\n",
        "b = np.array([0, 0, 0])\n",
        "\n",
        "# Solve the system of linear equations\n",
        "x = np.linalg.solve(A, b)\n",
        "\n",
        "# Print the solution\n",
        "print(\"Solution: x =\", x)\n"
      ]
    },
    {
      "cell_type": "code",
      "source": [
        "#ANS 2.\n",
        "\n",
        "# Define the matrix A\n",
        "A = np.array([[1, 1, 2], [1, 2, 3], [3, 4, 5]])\n",
        "\n",
        "# Get the number of rows and columns in A\n",
        "nrows, ncols = A.shape\n",
        "\n",
        "# Perform Gaussian elimination\n",
        "for i in range(nrows-1):\n",
        "    for j in range(i+1, nrows):\n",
        "        factor = A[j,i] / A[i,i]\n",
        "        A[j,:] = A[j,:] - factor * A[i,:]\n",
        "\n",
        "# Print the row echelon form of A\n",
        "print(\"Row echelon form of A:\")\n",
        "print(A)\n"
      ],
      "metadata": {
        "colab": {
          "base_uri": "https://localhost:8080/"
        },
        "id": "DB2Q3Vw2aUBB",
        "outputId": "3bbfa206-eaa1-46e7-c78e-6cf9eeb1b5dd"
      },
      "execution_count": 2,
      "outputs": [
        {
          "output_type": "stream",
          "name": "stdout",
          "text": [
            "Row echelon form of A:\n",
            "[[ 1  1  2]\n",
            " [ 0  1  1]\n",
            " [ 0  0 -2]]\n"
          ]
        }
      ]
    },
    {
      "cell_type": "code",
      "source": [
        "#ANS 3.\n",
        "# Define the matrix A\n",
        "A = np.array([[5, 2],\n",
        "              [2, 1]])\n",
        "\n",
        "# Calculate the eigenvalues and eigenvectors\n",
        "eigenvalues, eigenvectors = np.linalg.eig(A)\n",
        "\n",
        "# Print the results\n",
        "print(\"Eigenvalues: \", eigenvalues)\n",
        "print(\"Eigenvectors: \", eigenvectors)\n"
      ],
      "metadata": {
        "colab": {
          "base_uri": "https://localhost:8080/"
        },
        "id": "ZMrXQrQeaUDR",
        "outputId": "c128575e-9090-401f-9c1a-c3cb9d196ed9"
      },
      "execution_count": 3,
      "outputs": [
        {
          "output_type": "stream",
          "name": "stdout",
          "text": [
            "Eigenvalues:  [5.82842712 0.17157288]\n",
            "Eigenvectors:  [[ 0.92387953 -0.38268343]\n",
            " [ 0.38268343  0.92387953]]\n"
          ]
        }
      ]
    },
    {
      "cell_type": "code",
      "source": [
        "#ANS 4.\n",
        "from scipy.linalg import lu\n",
        "\n",
        "# Define the matrix A\n",
        "A = np.array([[1, 0, -8, -7],\n",
        "              [0, 1, 4, 3],\n",
        "              [0, 0, 0, 0]])\n",
        "\n",
        "# Compute the LU decomposition of A\n",
        "p, l, u = lu(A)\n",
        "\n",
        "# Find the pivot and free columns\n",
        "pivot_cols = np.where(np.abs(u) > 1e-10)[1]\n",
        "free_cols = np.delete(np.arange(A.shape[1]), pivot_cols)\n",
        "\n",
        "# Create a list of column vectors for the pivot and free columns\n",
        "pivot_vectors = [A[:,i] for i in pivot_cols]\n",
        "free_vectors = [np.zeros(A.shape[0]) for i in free_cols]\n",
        "\n",
        "# Print the parametric vector form of A\n",
        "print(\"A = \", end='')\n",
        "for i, v in enumerate(pivot_vectors):\n",
        "    print(f\"x{i+1} * {v}\", end='')\n",
        "    if i < len(pivot_vectors) - 1:\n",
        "        print(\" + \", end='')\n",
        "for i, v in enumerate(free_vectors):\n",
        "    print(f\" + x{i+len(pivot_vectors)+1} * {v}\", end='')\n",
        "print()"
      ],
      "metadata": {
        "colab": {
          "base_uri": "https://localhost:8080/"
        },
        "id": "GfdY0bgRaUFa",
        "outputId": "83acaf2b-bfe6-4b0c-e8e4-5688333bd7dd"
      },
      "execution_count": 4,
      "outputs": [
        {
          "output_type": "stream",
          "name": "stdout",
          "text": [
            "A = x1 * [1 0 0] + x2 * [-8  4  0] + x3 * [-7  3  0] + x4 * [0 1 0] + x5 * [-8  4  0] + x6 * [-7  3  0]\n"
          ]
        }
      ]
    },
    {
      "cell_type": "code",
      "source": [
        "#ANS 5.\n",
        "\n",
        "# Define the matrix A\n",
        "A = np.array([[1, -3], [2, -6]])\n",
        "\n",
        "# Augment A with a column of zeros\n",
        "A_aug = np.hstack([A, np.zeros((2,1))])\n",
        "\n",
        "# Perform Gaussian elimination\n",
        "for i in range(2):\n",
        "    # Divide the ith row by the diagonal element\n",
        "    A_aug[i,:] /= A_aug[i,i]\n",
        "    # Eliminate the ith variable from all lower rows\n",
        "    for j in range(i+1, 2):\n",
        "        A_aug[j,:] -= A_aug[j,i] * A_aug[i,:]\n",
        "\n",
        "# Perform back substitution to solve for the free variables\n",
        "x2 = np.array([1, 0])\n",
        "x1 = -3 * x2\n",
        "# Combine the solutions into a vector\n",
        "x = np.hstack([x1.reshape(-1,1), x2.reshape(-1,1)])\n",
        "\n",
        "# Print the parametric vector form of the solution set\n",
        "print(\"The solution set is x = {} * t\".format(x))"
      ],
      "metadata": {
        "colab": {
          "base_uri": "https://localhost:8080/"
        },
        "id": "Wbqee0nyaUH5",
        "outputId": "42955ce3-1b1a-42d0-9971-461197630425"
      },
      "execution_count": 5,
      "outputs": [
        {
          "output_type": "stream",
          "name": "stdout",
          "text": [
            "The solution set is x = [[-3  1]\n",
            " [ 0  0]] * t\n"
          ]
        },
        {
          "output_type": "stream",
          "name": "stderr",
          "text": [
            "<ipython-input-5-09995fcd93f8>:12: RuntimeWarning: invalid value encountered in divide\n",
            "  A_aug[i,:] /= A_aug[i,i]\n"
          ]
        }
      ]
    },
    {
      "cell_type": "code",
      "source": [
        "#ANS 6.\n",
        "import numpy as np\n",
        "\n",
        "# Define the matrix A and vector b\n",
        "A = np.array([[1, -1, 2], [-2, 2, -4]], dtype=np.float64)\n",
        "b = np.array([[1], [-2]], dtype=np.float64)\n",
        "\n",
        "# Augment A with the vector b\n",
        "A_aug = np.hstack([A, b])\n",
        "\n",
        "# Perform Gaussian elimination\n",
        "for i in range(2):\n",
        "    print(\"Before step {}:\\n{}\".format(i, A_aug))\n",
        "    # Divide the ith row by the diagonal element\n",
        "    A_aug[i,:] /= A_aug[i,i]\n",
        "    # Eliminate the ith variable from all lower rows\n",
        "    for j in range(i+1, 2):\n",
        "        A_aug[j,:] -= A_aug[j,i] * A_aug[i,:]\n",
        "\n",
        "print(\"After elimination:\\n{}\".format(A_aug))\n",
        "\n",
        "# Check if the system is consistent\n",
        "if A_aug[1,3] != 0:\n",
        "    print(\"The system is inconsistent and has no solution.\")\n",
        "else:\n",
        "    # Perform back substitution to solve for the unknowns\n",
        "    x2 = A_aug[1,2]\n",
        "    x1 = A_aug[0,2] - A_aug[0,1]*x2\n",
        "    x0 = A_aug[0,3] - A_aug[0,1]*b[1,0] - A_aug[0,2]*b[0,0]\n",
        "    # Combine the solutions into a vector\n",
        "    x = np.array([[x0], [x1], [x2]])\n",
        "\n",
        "    # Print the solution set\n",
        "    print(\"The solution set is:\\n{}\".format(x))"
      ],
      "metadata": {
        "colab": {
          "base_uri": "https://localhost:8080/"
        },
        "id": "Tyf7FTDmaUKI",
        "outputId": "e25e815a-3b03-464f-daff-c1cd31ae56f3"
      },
      "execution_count": 6,
      "outputs": [
        {
          "output_type": "stream",
          "name": "stdout",
          "text": [
            "Before step 0:\n",
            "[[ 1. -1.  2.  1.]\n",
            " [-2.  2. -4. -2.]]\n",
            "Before step 1:\n",
            "[[ 1. -1.  2.  1.]\n",
            " [ 0.  0.  0.  0.]]\n",
            "After elimination:\n",
            "[[ 1. -1.  2.  1.]\n",
            " [nan nan nan nan]]\n",
            "The system is inconsistent and has no solution.\n"
          ]
        },
        {
          "output_type": "stream",
          "name": "stderr",
          "text": [
            "<ipython-input-6-281645bafc57>:15: RuntimeWarning: invalid value encountered in divide\n",
            "  A_aug[i,:] /= A_aug[i,i]\n"
          ]
        }
      ]
    }
  ]
}