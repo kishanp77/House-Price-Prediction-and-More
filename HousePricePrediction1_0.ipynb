{
  "nbformat": 4,
  "nbformat_minor": 0,
  "metadata": {
    "colab": {
      "provenance": [],
      "authorship_tag": "ABX9TyMmO44pI0vCuLQST2+NSPDX",
      "include_colab_link": true
    },
    "kernelspec": {
      "name": "python3",
      "display_name": "Python 3"
    },
    "language_info": {
      "name": "python"
    }
  },
  "cells": [
    {
      "cell_type": "markdown",
      "metadata": {
        "id": "view-in-github",
        "colab_type": "text"
      },
      "source": [
        "<a href=\"https://colab.research.google.com/github/kishanp77/kishanp77/blob/main/HousePricePrediction1_0.ipynb\" target=\"_parent\"><img src=\"https://colab.research.google.com/assets/colab-badge.svg\" alt=\"Open In Colab\"/></a>"
      ]
    },
    {
      "cell_type": "markdown",
      "source": [
        "## House Price Prediction - Advanced regression techniques :"
      ],
      "metadata": {
        "id": "e5ZwybQ_9Ptd"
      }
    },
    {
      "cell_type": "markdown",
      "source": [
        "# Tasks Completed :\n",
        "### 1.Libraries as powerful allies\n",
        "### 2.Load the Players (datasets - Train and Test)\n",
        "### 3.Exploratory Data Analysis(EDA)\n",
        "### 4. Merge train & test data for Data Preprocessing\n",
        "### 5.Handle categoricsl & numerical missing values\n",
        "### 6.Feature Engineering\n",
        "### 7.Feature Transformation\n",
        "### 8.Encode categorical features\n",
        "### 9.Split train & test data\n",
        "### 10.Target Feature Encoding\n",
        "### 11.Build a Baseline model & evaluate it using K-Fold Cross-Validation\n",
        "### 12.Bagging Ensemble\n",
        "### 13.Submit test data prediction"
      ],
      "metadata": {
        "id": "aetDp94m9k07"
      }
    },
    {
      "cell_type": "code",
      "source": [
        "## Allies :\n",
        "import numpy as np\n",
        "import pandas as pd\n",
        "from matplotlib import\n"
      ],
      "metadata": {
        "id": "EU6MqC7d9jyL"
      },
      "execution_count": null,
      "outputs": []
    }
  ]
}